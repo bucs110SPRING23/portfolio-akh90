{
 "cells": [
  {
   "cell_type": "code",
   "execution_count": null,
   "metadata": {},
   "outputs": [],
   "source": [
    "\n",
    "\n"
   ]
  },
  {
   "attachments": {},
   "cell_type": "markdown",
   "metadata": {},
   "source": [
    "# Module\n",
    "\n",
    "module is just a fancy name for a python file \n",
    "\n",
    "\"print ()\"\n",
    "\"input()\"\n",
    "\"int()\"\n",
    "\n",
    "## Built-in functions\n",
    "\n",
    "## Library funtions \n",
    "\"random\"\n",
    "\"math\"\n",
    "\n"
   ]
  },
  {
   "cell_type": "code",
   "execution_count": 1,
   "metadata": {},
   "outputs": [
    {
     "name": "stdout",
     "output_type": "stream",
     "text": [
      "3.141592653589793\n"
     ]
    }
   ],
   "source": [
    "import random\n",
    "import math\n",
    "\n",
    "#always put all imports first in the file\n",
    "\n",
    "print (math.pi)\n"
   ]
  },
  {
   "attachments": {},
   "cell_type": "markdown",
   "metadata": {},
   "source": [
    "#import \n",
    "<modulename>. <object/function>\n"
   ]
  },
  {
   "cell_type": "code",
   "execution_count": 5,
   "metadata": {},
   "outputs": [
    {
     "name": "stdout",
     "output_type": "stream",
     "text": [
      "1\n"
     ]
    }
   ],
   "source": [
    "import random\n",
    "\n",
    "mylist = [1,2,3,4,5,6,7,8,9,10]\n",
    "var = random.choice(mylist)\n",
    "print(var)\n"
   ]
  }
 ],
 "metadata": {
  "kernelspec": {
   "display_name": "Python 3",
   "language": "python",
   "name": "python3"
  },
  "language_info": {
   "codemirror_mode": {
    "name": "ipython",
    "version": 3
   },
   "file_extension": ".py",
   "mimetype": "text/x-python",
   "name": "python",
   "nbconvert_exporter": "python",
   "pygments_lexer": "ipython3",
   "version": "3.10.9"
  },
  "orig_nbformat": 4,
  "vscode": {
   "interpreter": {
    "hash": "5e78a37e2a28c10d7853de012cd701bcbae11eaf1c6de240cca9455fea3d621e"
   }
  }
 },
 "nbformat": 4,
 "nbformat_minor": 2
}
