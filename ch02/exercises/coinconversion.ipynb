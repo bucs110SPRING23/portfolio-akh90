{
 "cells": [
  {
   "cell_type": "code",
   "execution_count": null,
   "metadata": {},
   "outputs": [],
   "source": []
  }
 ],
 "metadata": {
  "kernelspec": {
   "display_name": "Python 3",
   "language": "python",
   "name": "python3"
  },
  "language_info": {
   "name": "python",
   "version": "3.10.9"
  },
  "orig_nbformat": 4,
  "vscode": {
   "interpreter": {
    "hash": "5e78a37e2a28c10d7853de012cd701bcbae11eaf1c6de240cca9455fea3d621e"
   }
  }
 },
 "nbformat": 4,
 "nbformat_minor": 2
}
