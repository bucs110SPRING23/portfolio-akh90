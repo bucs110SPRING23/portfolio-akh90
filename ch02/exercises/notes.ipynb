{
 "cells": [
  {
   "cell_type": "code",
   "execution_count": null,
   "metadata": {},
   "outputs": [],
   "source": [
    "\n",
    "\n"
   ]
  },
  {
   "attachments": {},
   "cell_type": "markdown",
   "metadata": {},
   "source": [
    "# Module\n",
    "\n",
    "module is just a fancy name for a python file \n",
    "\n",
    "\"print ()\"\n",
    "\"input()\"\n",
    "\"int()\"\n",
    "\n",
    "## Built-in functions\n",
    "\n",
    "## Library funtions \n",
    "\"random\"\n",
    "\"math\"\n",
    "\n"
   ]
  },
  {
   "cell_type": "code",
   "execution_count": null,
   "metadata": {},
   "outputs": [],
   "source": [
    "import random\n",
    "import math\n",
    "\n",
    "#always put all imports first in the file\n",
    "\n",
    "print (math.pi)\n"
   ]
  },
  {
   "attachments": {},
   "cell_type": "markdown",
   "metadata": {},
   "source": [
    "#import \n",
    "<modulename>. <object/function>\n"
   ]
  },
  {
   "cell_type": "code",
   "execution_count": null,
   "metadata": {},
   "outputs": [],
   "source": [
    "import random\n",
    "\n",
    "mylist = [1,2,3,4,5,6,7,8,9,10]\n",
    "var = random.choice(mylist)\n",
    "print(var)\n"
   ]
  },
  {
   "cell_type": "code",
   "execution_count": null,
   "metadata": {},
   "outputs": [],
   "source": [
    "mynums = []\n",
    "var = int (input (\"enter a number: \"))\n",
    "mynums.append(var)\n",
    "print (mynums)\n",
    "\n",
    "var = int (input (\"enter a number: \"))\n",
    "mynums.append(var)\n",
    "print (mynums)\n",
    "\n",
    "var = int (input (\"enter a number: \"))\n",
    "mynums.append(var)\n",
    "print (mynums)\n"
   ]
  },
  {
   "attachments": {},
   "cell_type": "markdown",
   "metadata": {},
   "source": [
    "for loop\n",
    "#used to repeat a sequential algorithm on sequential data\n",
    "\n",
    "block statement \n",
    "#always ends in colon\n",
    "#everything that is part of the block is indented"
   ]
  },
  {
   "cell_type": "code",
   "execution_count": null,
   "metadata": {},
   "outputs": [],
   "source": [
    "#for iterating_variable in sequence\n",
    "#do something with the iterating_variable\n",
    "\n",
    "msg = \"enter 3 numbers: \"\n",
    "mynums = []\n",
    "\n",
    "for i in [0,0,0]: #could also do [0]* (any number) this is how many times it will loop (how many prompts will show up)\n",
    "    var = int (input(\":\"))\n",
    "    mynums.append(var)\n",
    "    print (mynums)\n",
    "print (\"all done :) \")\n",
    "\n"
   ]
  },
  {
   "cell_type": "code",
   "execution_count": null,
   "metadata": {},
   "outputs": [],
   "source": [
    "colors = [\"red\", \"orange\", \"yellow\", \"green\", \"blue\", \"purple\"]\n",
    "for c in colors: #c here is a temporary variable\n",
    "    print(c)\n",
    "\n",
    "\n"
   ]
  },
  {
   "cell_type": "code",
   "execution_count": null,
   "metadata": {},
   "outputs": [],
   "source": [
    "for ch in \"u suck  ahaha jk\":\n",
    "    print(ch)\n",
    "    "
   ]
  },
  {
   "cell_type": "code",
   "execution_count": null,
   "metadata": {},
   "outputs": [],
   "source": [
    "mylist = [0]*22\n",
    "for _ in mylist:\n",
    "    print (\"hap bert\")\n",
    "    "
   ]
  },
  {
   "attachments": {},
   "cell_type": "markdown",
   "metadata": {},
   "source": [
    "range()\n",
    "#range (5) = [0, 1, 2, 3, 4, 5]\n",
    "\n",
    "'range generates list values dynamically\n",
    "\n",
    "'[0] *100' gernates a list of 100 0's  and stores it in memory\n",
    "'\n"
   ]
  },
  {
   "cell_type": "code",
   "execution_count": null,
   "metadata": {},
   "outputs": [],
   "source": [
    "result = range(5) #starts at 0, stops at 5, non-inclusive\n",
    "print (list(result)) \n",
    "\n",
    "result = range (1,5) #starts at 1 inclusive, stops at 5\n",
    "print (list(result))\n",
    "\n",
    "result = range (1, 45, 3) #starts at 1, stops at 45, counts by 3\n",
    "print (list(result))\n",
    "\n",
    "\n"
   ]
  },
  {
   "cell_type": "code",
   "execution_count": null,
   "metadata": {},
   "outputs": [],
   "source": [
    "print(list (range(0,11))) \n",
    "\n",
    "print (list (range(3, 10, 2))) #odd numbers from 3 to 9\n",
    "\n",
    "print (list(range(100, -1, -1))) #count down from 100 to 0\n",
    "\n",
    "\n",
    "\n",
    "print (list (range(10,-11, -5))) #start at 10 and count down to -10 by 5s\n",
    "\n",
    "\n"
   ]
  },
  {
   "cell_type": "code",
   "execution_count": null,
   "metadata": {},
   "outputs": [],
   "source": []
  }
 ],
 "metadata": {
  "kernelspec": {
   "display_name": "Python 3",
   "language": "python",
   "name": "python3"
  },
  "language_info": {
   "codemirror_mode": {
    "name": "ipython",
    "version": 3
   },
   "file_extension": ".py",
   "mimetype": "text/x-python",
   "name": "python",
   "nbconvert_exporter": "python",
   "pygments_lexer": "ipython3",
   "version": "3.10.9"
  },
  "orig_nbformat": 4,
  "vscode": {
   "interpreter": {
    "hash": "5e78a37e2a28c10d7853de012cd701bcbae11eaf1c6de240cca9455fea3d621e"
   }
  }
 },
 "nbformat": 4,
 "nbformat_minor": 2
}
