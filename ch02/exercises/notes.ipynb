{
 "cells": [
  {
   "cell_type": "code",
   "execution_count": null,
   "metadata": {},
   "outputs": [],
   "source": [
    "\n",
    "\n"
   ]
  },
  {
   "attachments": {},
   "cell_type": "markdown",
   "metadata": {},
   "source": [
    "# Module\n",
    "\n",
    "module is just a fancy name for a python file \n",
    "\n",
    "\"print ()\"\n",
    "\"input()\"\n",
    "\"int()\"\n",
    "\n",
    "## Built-in functions\n",
    "\n",
    "## Library funtions \n",
    "\"random\"\n",
    "\"math\"\n",
    "\n"
   ]
  },
  {
   "cell_type": "code",
   "execution_count": null,
   "metadata": {},
   "outputs": [],
   "source": [
    "import random\n",
    "import math\n",
    "\n",
    "#always put all imports first in the file\n",
    "\n",
    "print (math.pi)\n"
   ]
  },
  {
   "attachments": {},
   "cell_type": "markdown",
   "metadata": {},
   "source": [
    "#import \n",
    "<modulename>. <object/function>\n"
   ]
  },
  {
   "cell_type": "code",
   "execution_count": null,
   "metadata": {},
   "outputs": [],
   "source": [
    "import random\n",
    "\n",
    "mylist = [1,2,3,4,5,6,7,8,9,10]\n",
    "var = random.choice(mylist)\n",
    "print(var)\n"
   ]
  },
  {
   "cell_type": "code",
   "execution_count": null,
   "metadata": {},
   "outputs": [],
   "source": [
    "mynums = []\n",
    "var = int (input (\"enter a number: \"))\n",
    "mynums.append(var)\n",
    "print (mynums)\n",
    "\n",
    "var = int (input (\"enter a number: \"))\n",
    "mynums.append(var)\n",
    "print (mynums)\n",
    "\n",
    "var = int (input (\"enter a number: \"))\n",
    "mynums.append(var)\n",
    "print (mynums)\n"
   ]
  },
  {
   "attachments": {},
   "cell_type": "markdown",
   "metadata": {},
   "source": [
    "for loop\n",
    "#used to repeat a sequential algorithm on sequential data\n",
    "\n",
    "block statement \n",
    "#always ends in colon\n",
    "#everything that is part of the block is indented"
   ]
  },
  {
   "cell_type": "code",
   "execution_count": 1,
   "metadata": {},
   "outputs": [
    {
     "name": "stdout",
     "output_type": "stream",
     "text": [
      "[5]\n",
      "[5, 7]\n",
      "[5, 7, 5]\n",
      "all done :) \n"
     ]
    }
   ],
   "source": [
    "#for iterating_variable in sequence\n",
    "#do something with the iterating_variable\n",
    "\n",
    "msg = \"enter 3 numbers: \"\n",
    "mynums = []\n",
    "\n",
    "for i in [0,0,0]: #could also do [0]* (any number) this is how many times it will loop (how many prompts will show up)\n",
    "    var = int (input(\":\"))\n",
    "    mynums.append(var)\n",
    "    print (mynums)\n",
    "print (\"all done :) \")\n",
    "\n"
   ]
  },
  {
   "cell_type": "code",
   "execution_count": 2,
   "metadata": {},
   "outputs": [
    {
     "name": "stdout",
     "output_type": "stream",
     "text": [
      "red\n",
      "orange\n",
      "yellow\n",
      "green\n",
      "blue\n",
      "purple\n"
     ]
    }
   ],
   "source": [
    "colors = [\"red\", \"orange\", \"yellow\", \"green\", \"blue\", \"purple\"]\n",
    "for c in colors: #c here is a temporary variable\n",
    "    print(c)\n",
    "\n",
    "\n"
   ]
  },
  {
   "cell_type": "code",
   "execution_count": 3,
   "metadata": {},
   "outputs": [
    {
     "name": "stdout",
     "output_type": "stream",
     "text": [
      "u\n",
      " \n",
      "s\n",
      "u\n",
      "c\n",
      "k\n",
      " \n",
      " \n",
      "a\n",
      "h\n",
      "a\n",
      "h\n",
      "a\n",
      " \n",
      "j\n",
      "k\n"
     ]
    }
   ],
   "source": [
    "for ch in \"u suck  ahaha jk\":\n",
    "    print(ch)\n",
    "    "
   ]
  },
  {
   "cell_type": "code",
   "execution_count": 4,
   "metadata": {},
   "outputs": [
    {
     "name": "stdout",
     "output_type": "stream",
     "text": [
      "hap bert\n",
      "hap bert\n",
      "hap bert\n",
      "hap bert\n",
      "hap bert\n",
      "hap bert\n",
      "hap bert\n",
      "hap bert\n",
      "hap bert\n",
      "hap bert\n",
      "hap bert\n",
      "hap bert\n",
      "hap bert\n",
      "hap bert\n",
      "hap bert\n",
      "hap bert\n",
      "hap bert\n",
      "hap bert\n",
      "hap bert\n",
      "hap bert\n",
      "hap bert\n",
      "hap bert\n"
     ]
    }
   ],
   "source": [
    "mylist = [0]*22\n",
    "for _ in mylist:\n",
    "    print (\"hap bert\")\n",
    "    "
   ]
  },
  {
   "attachments": {},
   "cell_type": "markdown",
   "metadata": {},
   "source": [
    "range()\n",
    "#range (5) = [0, 1, 2, 3, 4, 5]\n",
    "\n",
    "'range generates list values dynamically\n",
    "\n",
    "'[0] *100' gernates a list of 100 0's  and stores it in memory\n",
    "'\n"
   ]
  },
  {
   "cell_type": "code",
   "execution_count": 5,
   "metadata": {},
   "outputs": [
    {
     "name": "stdout",
     "output_type": "stream",
     "text": [
      "[0, 1, 2, 3, 4]\n",
      "[1, 2, 3, 4]\n",
      "[1, 4, 7, 10, 13, 16, 19, 22, 25, 28, 31, 34, 37, 40, 43]\n"
     ]
    }
   ],
   "source": [
    "result = range(5) #starts at 0, stops at 5, non-inclusive\n",
    "print (list(result)) \n",
    "\n",
    "result = range (1,5) #starts at 1 inclusive, stops at 5\n",
    "print (list(result))\n",
    "\n",
    "result = range (1, 45, 3) #starts at 1, stops at 45, counts by 3\n",
    "print (list(result))\n",
    "\n",
    "\n"
   ]
  },
  {
   "cell_type": "code",
   "execution_count": 6,
   "metadata": {},
   "outputs": [
    {
     "name": "stdout",
     "output_type": "stream",
     "text": [
      "[0, 1, 2, 3, 4, 5, 6, 7, 8, 9, 10]\n",
      "[3, 5, 7, 9]\n",
      "[100, 99, 98, 97, 96, 95, 94, 93, 92, 91, 90, 89, 88, 87, 86, 85, 84, 83, 82, 81, 80, 79, 78, 77, 76, 75, 74, 73, 72, 71, 70, 69, 68, 67, 66, 65, 64, 63, 62, 61, 60, 59, 58, 57, 56, 55, 54, 53, 52, 51, 50, 49, 48, 47, 46, 45, 44, 43, 42, 41, 40, 39, 38, 37, 36, 35, 34, 33, 32, 31, 30, 29, 28, 27, 26, 25, 24, 23, 22, 21, 20, 19, 18, 17, 16, 15, 14, 13, 12, 11, 10, 9, 8, 7, 6, 5, 4, 3, 2, 1, 0]\n",
      "[10, 5, 0, -5, -10]\n"
     ]
    }
   ],
   "source": [
    "print(list (range(0,11))) \n",
    "\n",
    "print (list (range(3, 10, 2))) #odd numbers from 3 to 9\n",
    "\n",
    "print (list(range(100, -1, -1))) #count down from 100 to 0\n",
    "\n",
    "\n",
    "\n",
    "print (list (range(10,-11, -5))) #start at 10 and count down to -10 by 5s\n",
    "\n",
    "\n"
   ]
  },
  {
   "cell_type": "code",
   "execution_count": null,
   "metadata": {},
   "outputs": [],
   "source": []
  }
 ],
 "metadata": {
  "kernelspec": {
   "display_name": "Python 3",
   "language": "python",
   "name": "python3"
  },
  "language_info": {
   "codemirror_mode": {
    "name": "ipython",
    "version": 3
   },
   "file_extension": ".py",
   "mimetype": "text/x-python",
   "name": "python",
   "nbconvert_exporter": "python",
   "pygments_lexer": "ipython3",
   "version": "3.10.9"
  },
  "orig_nbformat": 4,
  "vscode": {
   "interpreter": {
    "hash": "5e78a37e2a28c10d7853de012cd701bcbae11eaf1c6de240cca9455fea3d621e"
   }
  }
 },
 "nbformat": 4,
 "nbformat_minor": 2
}
